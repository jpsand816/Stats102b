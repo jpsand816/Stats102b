{
 "cells": [
  {
   "cell_type": "markdown",
   "id": "42cc941e-082e-4af9-a187-5a5e4fd71b77",
   "metadata": {},
   "source": [
    "# Import Packages and Dataset"
   ]
  },
  {
   "cell_type": "code",
   "execution_count": 1,
   "id": "2289a17e-8095-48ba-a15f-789b2d7638d3",
   "metadata": {},
   "outputs": [],
   "source": [
    "import pandas as pd\n",
    "import numpy as np\n",
    "import matplotlib.pyplot as plt"
   ]
  },
  {
   "cell_type": "code",
   "execution_count": 2,
   "id": "f0ed7b00-cd29-4010-a753-327671f2b366",
   "metadata": {},
   "outputs": [],
   "source": [
    "train = pd.read_csv('train_data.csv')\n",
    "val = pd.read_csv('validation_data.csv')"
   ]
  },
  {
   "cell_type": "code",
   "execution_count": 23,
   "id": "4490f6e1-78f4-41fd-a404-b4ceca83f084",
   "metadata": {},
   "outputs": [],
   "source": [
    "X_train = train.drop(columns = [\"y\"])\n",
    "y_train = train['y']\n",
    "X_val = val.drop(columns = [\"y\"])\n",
    "y_val = val['y']"
   ]
  },
  {
   "cell_type": "markdown",
   "id": "733efac0-d693-472c-b39a-69cf61792d49",
   "metadata": {},
   "source": [
    "# Question 1"
   ]
  },
  {
   "cell_type": "code",
   "execution_count": 4,
   "id": "b64cd1ed-a418-4680-a4fb-76677684f817",
   "metadata": {},
   "outputs": [],
   "source": [
    "def f(x):\n",
    "    return 1/4 * x**4 - x**2 + 2*x\n",
    "\n",
    "def f_prime(x):\n",
    "    return x**3 - 2*x + 2\n",
    "\n",
    "def f_double_prime(x):\n",
    "    return 3*x**2 - 2"
   ]
  },
  {
   "cell_type": "code",
   "execution_count": 5,
   "id": "bb02ad59-c1b0-4c0b-8db1-e3ce9497566c",
   "metadata": {},
   "outputs": [],
   "source": [
    "def newton(x, iter = 20):\n",
    "    for k in range(iter):\n",
    "        x = x - (f_prime(x) / f_double_prime(x))\n",
    "\n",
    "    return x"
   ]
  },
  {
   "cell_type": "code",
   "execution_count": 7,
   "id": "302b0277-6f59-4e10-b536-531d61870af2",
   "metadata": {},
   "outputs": [],
   "source": [
    "x0 = [-1, 0, 0.1, 1, 2]"
   ]
  },
  {
   "cell_type": "markdown",
   "id": "f5dc5211-9436-4842-ada1-1289e5047d03",
   "metadata": {},
   "source": [
    "## (i)"
   ]
  },
  {
   "cell_type": "code",
   "execution_count": 8,
   "id": "10f32c98-cd3a-4a99-b959-226fcee0b68c",
   "metadata": {},
   "outputs": [
    {
     "name": "stdout",
     "output_type": "stream",
     "text": [
      "For x0 = -1, minimized value is at xk = -1.7692923542386314\n",
      "For x0 = 0, minimized value is at xk = 0.0\n",
      "For x0 = 0.1, minimized value is at xk = 0.0\n",
      "For x0 = 1, minimized value is at xk = 1.0\n",
      "For x0 = 2, minimized value is at xk = -1.7692923542386314\n"
     ]
    }
   ],
   "source": [
    "for i in x0:\n",
    "    print(f\"For x0 = {i}, minimized value is at xk = {newton(i)}\")"
   ]
  },
  {
   "cell_type": "markdown",
   "id": "9a87cbcf-5742-4b5f-be9a-88c367735d1a",
   "metadata": {},
   "source": [
    "There seems to be different values for where the minimized value is reportedly calculated at depending on the initial point."
   ]
  },
  {
   "cell_type": "markdown",
   "id": "ac72f2fc-8cbd-4587-9ded-9d97af3e7856",
   "metadata": {},
   "source": [
    "## (ii)"
   ]
  },
  {
   "cell_type": "markdown",
   "id": "09b03332-bb4b-4efd-9882-1ebbb4a0d4fd",
   "metadata": {},
   "source": [
    "Depending on the initial points, Newton's algorithm may converge to a saddle point or a local minimum. In this case, since the Hessian is not positive definite, some adjustments can be made like the Levenberg-Marquadt algorithm, where the Hessian can be adjusted by adding some parameter $\\mu_k$ such that the Hessian (or second derivative) is positive definite. \n",
    "\n",
    "Another way is for all the $x_k$ values, plug into the function f(x) and check which output produces the smallest value."
   ]
  },
  {
   "cell_type": "markdown",
   "id": "2b74dbbc-fb06-48ee-9d4a-9b4816419ba8",
   "metadata": {},
   "source": [
    "# Question 2"
   ]
  },
  {
   "cell_type": "code",
   "execution_count": 24,
   "id": "f1167390-0536-4c8e-9c63-af9dd3f0e5bd",
   "metadata": {},
   "outputs": [],
   "source": [
    "def prox(beta, val):\n",
    "    return np.sign(beta) * np.maximum(np.abs(beta) - val, 0)\n",
    "\n",
    "def gradient_descent(X, y, eta, tol, epsilon, tau, lmb, max_iter=1000, backtracking=True):\n",
    "    n, p = X.shape\n",
    "    beta = np.zeros(p)\n",
    "    obj_values = []\n",
    "    \n",
    "    def obj_function(beta):\n",
    "        return np.sum((X @ beta - y) ** 2) / (2 * n)\n",
    "    \n",
    "    def gradient(beta):\n",
    "        return X.T @ (X @ beta - y) / n\n",
    "    \n",
    "    for _ in range(max_iter):\n",
    "        grad = gradient(beta)\n",
    "        \n",
    "        if backtracking:\n",
    "            t = eta  # Initial step size\n",
    "            beta_new = beta - t * grad\n",
    "            beta_new = prox(beta_new, t * lmb) #lasso selection\n",
    "            \n",
    "            while obj_function(beta_new) > obj_function(beta) - epsilon * t * np.sum(grad ** 2):\n",
    "                t *= tau\n",
    "                beta_new = beta - t * grad\n",
    "                beta_new = prox(beta_new, t * lmb) #lasso selection\n",
    "        else: \n",
    "            beta_new = beta - eta * grad\n",
    "            beta_new = prox(beta_new, t * lmb) #lasaso selection\n",
    "        \n",
    "        obj_values.append(obj_function(beta_new))\n",
    "        \n",
    "        if np.linalg.norm(beta_new - beta) < tol:\n",
    "            break\n",
    "        \n",
    "        beta = beta_new\n",
    "    \n",
    "    return beta, obj_values\n",
    "\n",
    "def sse(X, y, beta):\n",
    "        return np.sum((X @ beta - y) ** 2) / (2 * X.shape[0])"
   ]
  },
  {
   "cell_type": "code",
   "execution_count": 25,
   "id": "aa7d028f-0204-457b-aae7-a8082a044066",
   "metadata": {},
   "outputs": [
    {
     "data": {
      "text/plain": [
       "0.005"
      ]
     },
     "execution_count": 25,
     "metadata": {},
     "output_type": "execute_result"
    }
   ],
   "source": [
    "lambdas = np.linspace(0.005, 0.1, 10)\n",
    "result = {}\n",
    "beta_val = {}\n",
    "for l in lambdas:\n",
    "    beta, _ = gradient_descent(X_train, y_train, eta = 0.5, tol = 1e-6, epsilon = 0.01, tau = 0.8, lmb = l)\n",
    "    result[l] = (sse(X_val, y_val, beta))\n",
    "    beta_val[l] = beta\n",
    "\n",
    "min(result)"
   ]
  },
  {
   "cell_type": "code",
   "execution_count": 26,
   "id": "919a2193-57b3-45aa-a24e-ecdacc53cb69",
   "metadata": {},
   "outputs": [
    {
     "data": {
      "image/png": "[encoded data removed]",
      "text/plain": [
       "<Figure size 640x480 with 1 Axes>"
      ]
     },
     "metadata": {},
     "output_type": "display_data"
    }
   ],
   "source": [
    "beta_train, obj_values_train = gradient_descent(X_train, y_train, eta = 0.5, tol = 1e-6, epsilon = 0.01, tau = 0.8, lmb = min(result))\n",
    "beta_val, obj_values_val = gradient_descent(X_val, y_val, eta = 0.5, tol = 1e-6, epsilon = 0.01, tau = 0.8, lmb = min(result))\n",
    "\n",
    "plt.plot(obj_values_train, marker='o', linestyle='-', color='red')\n",
    "plt.plot(obj_values_val, marker = 'o', linestyle = '-', color = 'blue')\n",
    "plt.legend(['Training Error', 'Validation Error'])\n",
    "plt.xlabel(\"Iteration\")\n",
    "plt.ylabel(\"Sum of Square Error\")\n",
    "plt.title(\"Lasso Gradient Descent Convergence\")\n",
    "plt.show()"
   ]
  },
  {
   "cell_type": "code",
   "execution_count": 32,
   "id": "83cee9ea-2c5c-4407-8430-124ea8e0c2d5",
   "metadata": {},
   "outputs": [
    {
     "name": "stdout",
     "output_type": "stream",
     "text": [
      "SSE of Training set = 0.49836073037361645\n",
      "SSE of Validation set = 0.004427662747703532\n",
      "Number of coefficients estimated at zero = 76\n"
     ]
    }
   ],
   "source": [
    "print(f\"SSE of Training set = {sse(X_train, y_train, beta_train)}\")\n",
    "print(f\"SSE of Validation set = {sse(X_val, y_val, beta_val)}\")\n",
    "print(f\"Number of coefficients estimated at zero = {np.sum(beta_val == 0)}\")"
   ]
  },
  {
   "cell_type": "code",
   "execution_count": null,
   "id": "79a83fe1-cd10-46ae-91b8-81bb6f4d810c",
   "metadata": {},
   "outputs": [],
   "source": []
  },
  {
   "cell_type": "code",
   "execution_count": null,
   "id": "0a79644e-e4d4-4eea-8c32-78467f5060f8",
   "metadata": {},
   "outputs": [],
   "source": []
  },
  {
   "cell_type": "code",
   "execution_count": null,
   "id": "8573c931-07b6-454d-9036-8966df9aee7b",
   "metadata": {},
   "outputs": [],
   "source": []
  },
  {
   "cell_type": "code",
   "execution_count": null,
   "id": "2934bc54-9857-428e-a8b6-4f5136a6193b",
   "metadata": {},
   "outputs": [],
   "source": []
  },
  {
   "cell_type": "code",
   "execution_count": null,
   "id": "ec1d1dcd-4aa0-49bd-afdf-36d45da979d6",
   "metadata": {},
   "outputs": [],
   "source": []
  }
 ],
 "metadata": {
  "kernelspec": {
   "display_name": "Python 3 (ipykernel)",
   "language": "python",
   "name": "python3"
  },
  "language_info": {
   "codemirror_mode": {
    "name": "ipython",
    "version": 3
   },
   "file_extension": ".py",
   "mimetype": "text/x-python",
   "name": "python",
   "nbconvert_exporter": "python",
   "pygments_lexer": "ipython3",
   "version": "3.11.7"
  }
 },
 "nbformat": 4,
 "nbformat_minor": 5
}

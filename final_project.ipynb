{
 "cells": [
  {
   "cell_type": "markdown",
   "id": "ad4907cb-f0fe-46fe-b427-0a2291d96cab",
   "metadata": {},
   "source": [
    "# Import Packages"
   ]
  },
  {
   "cell_type": "code",
   "execution_count": 127,
   "id": "aded6ad6-d809-439c-bae9-fc65b94541a9",
   "metadata": {},
   "outputs": [],
   "source": [
    "import numpy as np\n",
    "import pandas as pd\n",
    "import matplotlib.pyplot as plt\n",
    "from sklearn.preprocessing import StandardScaler\n",
    "from sklearn.metrics import confusion_matrix\n"
   ]
  },
  {
   "cell_type": "code",
   "execution_count": 75,
   "id": "f9ffc6b5-6b7d-4501-8ddb-d21ba01fea70",
   "metadata": {},
   "outputs": [],
   "source": [
    "d1 = pd.read_csv(\"regression_data_node1.csv\")\n",
    "d2 = pd.read_csv(\"regression_data_node2.csv\")\n",
    "d3 = pd.read_csv(\"regression_data_node3.csv\")\n",
    "test = pd.read_csv(\"test_data.csv\")"
   ]
  },
  {
   "cell_type": "code",
   "execution_count": 95,
   "id": "ab54bd3b-f5b4-475c-b76f-0cdd8ffa6353",
   "metadata": {},
   "outputs": [],
   "source": [
    "# Split Dataset\n",
    "def split(X):\n",
    "    n, _ = X.shape\n",
    "    i = int(n * 0.8)\n",
    "\n",
    "    X_train = X.drop(columns = ['y'])[:i]\n",
    "    X_val = X.drop(columns = ['y'])[i:]\n",
    "    \n",
    "    y_train = X['y'][:i]\n",
    "    y_val = X['y'][i:]\n",
    "\n",
    "    return np.array(X_train), np.array(X_val), y_train, y_val\n",
    "\n",
    "d1_train, d1_val, y1_train, y1_val = split(d1)\n",
    "d2_train, d2_val, y2_train, y2_val = split(d2)\n",
    "d3_train, d3_val, y3_train, y3_val = split(d3)\n",
    "test_X = test.drop(columns = ['y'])\n",
    "test_y = test['y']\n",
    "beta_0 = np.zeros(d1_train.shape[1])\n",
    "    \n",
    "    \n",
    "    "
   ]
  },
  {
   "cell_type": "markdown",
   "id": "be337375-51de-450b-a082-61eb4c696435",
   "metadata": {},
   "source": [
    "# Part (a)"
   ]
  },
  {
   "cell_type": "markdown",
   "id": "6608ccef-1ae6-42c0-8f07-ad15bca5e11d",
   "metadata": {},
   "source": [
    "- implement coordinate descent with lasso\n",
    "- validate using different $\\lambda$ parameters\n",
    "- Report the values of the regularization parameter λ that yielded the best models \n",
    "for each of the three data sets, based on validation loss\n",
    "- get test loss for each model s"
   ]
  },
  {
   "cell_type": "markdown",
   "id": "5703b5ff-3fb1-44bc-ba4a-5487878c8777",
   "metadata": {},
   "source": [
    "## Function for Coordinate Descent"
   ]
  },
  {
   "cell_type": "code",
   "execution_count": 79,
   "id": "d9e8580f-18b7-4dda-a706-82795062dacf",
   "metadata": {},
   "outputs": [],
   "source": [
    "#Loss function\n",
    "def sse(X, y, beta):\n",
    "        return np.sum((X @ beta - y) ** 2) / (2 * X.shape[0])\n",
    "\n",
    "#Proximal Function\n",
    "def prox(inp, lmb):\n",
    "    if inp > lmb:\n",
    "        return inp - lmb\n",
    "    elif inp < -lmb:\n",
    "        return inp + lmb\n",
    "    else:\n",
    "        return 0\n",
    "\n",
    "#Lasso Coordinate Descent\n",
    "def lasso_coordinate_descent(X, y, lmb, beta_0, iter = 10, tol = 1e-4):\n",
    "    n, p = X.shape \n",
    "    beta = beta_0.copy()\n",
    "    \n",
    "\n",
    "    for _ in range(iter):\n",
    "        \n",
    "        beta_old = beta.copy()\n",
    "        for j in range(p):\n",
    "            #exclude j\n",
    "            Xj = np.delete(X, j, axis = 1)\n",
    "            betaj = np.delete(beta, j)\n",
    "\n",
    "            #calculate betaj\n",
    "            rj = y - Xj @ betaj\n",
    "            numer = rj.T @ X[:, j]\n",
    "            denom = X[:, j].T @ X[:, j]\n",
    "\n",
    "            #lasso implementation\n",
    "            beta[j] = prox(numer, lmb) / denom\n",
    "            \n",
    "        if np.linalg.norm(beta - beta_old) < tol:\n",
    "            break\n",
    "\n",
    "    return beta\n",
    "    "
   ]
  },
  {
   "cell_type": "markdown",
   "id": "d8233ace-4d4f-4344-8e40-5d4b8bd7e987",
   "metadata": {},
   "source": [
    "## Function for hyperparameter tuning"
   ]
  },
  {
   "cell_type": "code",
   "execution_count": 80,
   "id": "07c1c60e-15d0-4cb1-b531-da9b946fae74",
   "metadata": {},
   "outputs": [],
   "source": [
    "# input: X_train, y_train, X_val, y_val, smallest lambda, largest lambda, how many lambdas to test\n",
    "# output: beta, lambda\n",
    "# iterate through each lambda to find the smallest sse\n",
    "\n",
    "lambdas = np.linspace(12, 84, 10) #range for lambda\n",
    "\n",
    "def lambda_tuning(X_train, y_train, X_val, y_val, lambdas, beta_0, iter = 10):\n",
    "    \n",
    "    result = {}\n",
    "    beta_val = {}\n",
    "    for l in lambdas: #run coordinate descent for each lambda in range\n",
    "        beta_init = beta_0.copy()\n",
    "        beta = lasso_coordinate_descent(X_train, y_train, l, beta_init, iter, 1e-4)\n",
    "        result[l] = sse(X_val, y_val, beta) #store sse results corresponding to lambda\n",
    "        beta_val[l] = beta.copy() \n",
    "        \n",
    "    l_star = min(result, key=result.get) #grab lambda with lowest loss value\n",
    "\n",
    "    return beta_val[l_star], l_star, result[l_star]"
   ]
  },
  {
   "cell_type": "markdown",
   "id": "68eb1467-c3bc-4102-bdc2-2c87cbbf73b4",
   "metadata": {},
   "source": [
    "## Run Functions"
   ]
  },
  {
   "cell_type": "code",
   "execution_count": 81,
   "id": "2166761d-e759-4e63-bce9-dc2a3784a495",
   "metadata": {},
   "outputs": [],
   "source": [
    "beta_d1, lambda_d1, loss_d1 = lambda_tuning(d1_train, y1_train, d1_val, y1_val, lambdas, beta_0)\n",
    "beta_d2, lambda_d2, loss_d2 = lambda_tuning(d2_train, y2_train, d2_val, y2_val, lambdas, beta_0)\n",
    "beta_d3, lambda_d3, loss_d3 = lambda_tuning(d3_train, y3_train, d3_val, y3_val, lambdas, beta_0)"
   ]
  },
  {
   "cell_type": "code",
   "execution_count": 82,
   "id": "640a7374-ff3b-45e5-9478-753f4c7a75e5",
   "metadata": {},
   "outputs": [
    {
     "name": "stdout",
     "output_type": "stream",
     "text": [
      "-----d1 values-----\n",
      "lambda = 36.0\n",
      "Validation loss = 33.747818298085754\n",
      "-----d2 values-----\n",
      "lambda = 76.0\n",
      "Validation loss = 38.10561620759369\n",
      "-----d3 values-----\n",
      "lambda = 76.0\n",
      "Validation loss = 16.771160448498886\n"
     ]
    }
   ],
   "source": [
    "print(\"-----d1 values-----\")\n",
    "print(f\"lambda = {lambda_d1}\")\n",
    "print(f\"Validation loss = {loss_d1}\")\n",
    "\n",
    "print(\"-----d2 values-----\")\n",
    "\n",
    "print(f\"lambda = {lambda_d2}\")\n",
    "print(f\"Validation loss = {loss_d2}\")\n",
    "\n",
    "print(\"-----d3 values-----\")\n",
    "\n",
    "print(f\"lambda = {lambda_d3}\")\n",
    "print(f\"Validation loss = {loss_d3}\")"
   ]
  },
  {
   "cell_type": "markdown",
   "id": "92948aee-1994-47cb-bc64-2df8305bddd5",
   "metadata": {},
   "source": [
    "### (2)"
   ]
  },
  {
   "cell_type": "code",
   "execution_count": 83,
   "id": "650350ec-544b-41d0-877a-82357af761d0",
   "metadata": {},
   "outputs": [
    {
     "name": "stdout",
     "output_type": "stream",
     "text": [
      "Non-zero indices for dataset 1: [  5   6  14  15  20  25  32  36  37  40  47  58  61  75  76  80  85  91\n",
      " 106 108 112 115 116 117 123 125 126 128 132 134 135 137 138 151 168 169\n",
      " 171 172 174 186 193 199 201 202 204 207 209 212 216 219 225 228 229 230\n",
      " 231 232 235 249 253 260 262 265 266 267 268 284 291 298 299 300 305 311\n",
      " 312 315 317 322 323 324 326 342 346 350 351 360 362 363 364 365 372 374\n",
      " 378 381 387 389 396 399 400 402 405 409 414 420 423 427 429 440 447 458\n",
      " 461 465 469 471 473 481 491 492 493 496 498 499 500 507 508 509 510 513\n",
      " 514 526 530 532 535 541 544 545 550 559 566 569 574 577 583 587 590 591\n",
      " 596]\n",
      "Non-zero indices for dataset 2: [  4   6   8  14  18  26  30  34  35  36  40  52  61  65  71  77  78  90\n",
      "  93  94  97  98 104 109 111 117 118 123 125 130 135 136 144 148 153 161\n",
      " 165 173 182 204 210 212 218 220 223 224 227 231 237 249 266 269 274 281\n",
      " 285 289 294 299 304 305 306 307 308 311 315 329 333 345 350 351 356 360\n",
      " 362 369 391 396 399 400 411 412 413 423 425 430 431 440 442 443 445 447\n",
      " 457 461 470 471 474 475 479 491 492 493 500 503 509 512 519 521 524 526\n",
      " 532 537 538 539 541 545 547 550 552 558 559 566 569 576 577 578 581 587\n",
      " 594]\n",
      "Non-zero indices for dataset 3: [  2   6   8   9  11  13  14  18  24  25  34  38  40  42  43  46  49  52\n",
      "  63  66  68  71  73  76  77  78  79  82  85  91  92 102 105 107 114 117\n",
      " 119 120 123 124 125 126 130 133 134 147 159 161 169 170 171 172 179 180\n",
      " 181 182 184 193 208 210 213 223 224 225 226 235 241 249 252 253 255 256\n",
      " 257 263 266 268 270 276 277 279 283 285 287 292 297 298 299 304 305 307\n",
      " 308 309 311 318 321 325 332 337 340 342 343 344 352 358 359 361 362 365\n",
      " 367 373 374 377 378 385 388 389 391 393 399 400 402 403 406 407 408 411\n",
      " 416 421 423 429 431 433 442 443 444 446 447 452 454 456 461 463 468 469\n",
      " 470 471 473 474 475 482 485 486 487 488 493 495 497 500 504 508 518 519\n",
      " 522 525 526 530 534 537 538 541 542 545 555 557 559 564 569 582 587 589\n",
      " 590 592 593 596 598]\n"
     ]
    }
   ],
   "source": [
    "print(f\"Non-zero indices for dataset 1: {np.where(beta_d1 != 0)[0]}\")\n",
    "print(f\"Non-zero indices for dataset 2: {np.where(beta_d2 != 0)[0]}\")\n",
    "print(f\"Non-zero indices for dataset 3: {np.where(beta_d3 != 0)[0]}\")"
   ]
  },
  {
   "cell_type": "markdown",
   "id": "5fcc06ef-e3a1-4f97-8879-998936ca9005",
   "metadata": {},
   "source": [
    "### (3)"
   ]
  },
  {
   "cell_type": "code",
   "execution_count": 108,
   "id": "1a42976e-38fb-4848-954c-af04b0c68c93",
   "metadata": {},
   "outputs": [
    {
     "name": "stdout",
     "output_type": "stream",
     "text": [
      "Indices that are not zero across all three models are: [  6  14  40 117 123 125 249 266 299 305 311 362 399 400 423 447 461 471\n",
      " 493 500 526 541 545 559 569 587]\n"
     ]
    }
   ],
   "source": [
    "nonzero_indices = np.where((beta_d1 != 0) & (beta_d2 != 0) & (beta_d3 != 0))[0]\n",
    "print(f\"Indices that are not zero across all three models are: {zero_indices}\")"
   ]
  },
  {
   "cell_type": "markdown",
   "id": "1cd0ae5a-17fd-47f1-8c2c-536e0b47ca79",
   "metadata": {},
   "source": [
    "### (4)"
   ]
  },
  {
   "cell_type": "code",
   "execution_count": 85,
   "id": "6a4108dd-fa7a-4747-91fd-cf846ab6bb5e",
   "metadata": {},
   "outputs": [
    {
     "name": "stdout",
     "output_type": "stream",
     "text": [
      "Dataset 1 test loss = 68.63667905275827\n",
      "Dataset 2 test loss = 59.04495554714742\n",
      "Dataset 3 test loss = 62.7979315372766\n"
     ]
    }
   ],
   "source": [
    "test_loss_d1 = sse(test_X, test_y, beta_d1)\n",
    "test_loss_d2 = sse(test_X, test_y, beta_d2)\n",
    "test_loss_d3 = sse(test_X, test_y, beta_d3)\n",
    "print(f\"Dataset 1 test loss = {test_loss_d1}\")\n",
    "print(f\"Dataset 2 test loss = {test_loss_d2}\")\n",
    "print(f\"Dataset 3 test loss = {test_loss_d3}\")"
   ]
  },
  {
   "cell_type": "markdown",
   "id": "51df8cf7-24e3-4d1d-901a-a8148b40b99b",
   "metadata": {},
   "source": [
    "### Training Loss Plot"
   ]
  },
  {
   "cell_type": "code",
   "execution_count": 86,
   "id": "d757f28f-14c7-4043-aa2d-ead9c768ed69",
   "metadata": {},
   "outputs": [],
   "source": [
    "def lcd_plot(X, y, lmb, beta, iter = 15, tol = 1e-4):\n",
    "    n, p = X.shape\n",
    "    #X = StandardScaler().fit_transform(X)\n",
    "    obj_values = []\n",
    "    \n",
    "\n",
    "    for _ in range(iter):\n",
    "        \n",
    "        beta_old = beta.copy()\n",
    "        for j in range(p):\n",
    "            #exclude j\n",
    "            Xj = np.delete(X, j, axis = 1)\n",
    "            betaj = np.delete(beta, j)\n",
    "\n",
    "            #calculate betaj\n",
    "            rj = y - Xj @ betaj\n",
    "            numer = rj.T @ X[:, j]\n",
    "            denom = X[:, j].T @ X[:, j]\n",
    "\n",
    "            #lasso implementation\n",
    "            beta[j] = prox(numer, lmb) / denom\n",
    "\n",
    "        obj_values.append(sse(X, y, beta))\n",
    "        if np.linalg.norm(beta - beta_old) < tol:\n",
    "            break\n",
    "\n",
    "    return beta, obj_values"
   ]
  },
  {
   "cell_type": "code",
   "execution_count": 87,
   "id": "2612760b-19f5-487d-aaf0-a6a1eb33efef",
   "metadata": {},
   "outputs": [
    {
     "data": {
      "image/png": "[encoded data removed]",
      "text/plain": [
       "<Figure size 640x480 with 1 Axes>"
      ]
     },
     "metadata": {},
     "output_type": "display_data"
    }
   ],
   "source": [
    "_, d1_obj_values = lcd_plot(d1_train, y1_train, lambda_d1, beta_0, iter = 15, tol = 1e-4)\n",
    "_, d2_obj_values = lcd_plot(d2_train, y2_train, lambda_d2, beta_0, iter = 15, tol = 1e-4)\n",
    "_, d3_obj_values = lcd_plot(d3_train, y3_train, lambda_d3, beta_0, iter = 15, tol = 1e-4)\n",
    "\n",
    "plt.plot(d1_obj_values, marker='o', linestyle='-', color='red')\n",
    "plt.plot(d2_obj_values, marker = 'o', linestyle = '-', color = 'blue')\n",
    "plt.plot(d3_obj_values, marker = 'o', linestyle = '-', color = 'green')\n",
    "plt.legend(['d1 Training', 'd2 Training', 'd3 Training'])\n",
    "plt.xlabel(\"Iteration\")\n",
    "plt.ylabel(\"Sum of Square Error\")\n",
    "plt.title(\"Lasso Gradient Coordinate Descent Convergence\")\n",
    "plt.show()"
   ]
  },
  {
   "cell_type": "markdown",
   "id": "53ba270e-9138-4212-be56-0f8dac57e4d9",
   "metadata": {},
   "source": [
    "# Part (b)"
   ]
  },
  {
   "cell_type": "markdown",
   "id": "1ba745d8-c324-4a96-8dd7-6b4c66109b47",
   "metadata": {},
   "source": [
    "### Complile Datasets"
   ]
  },
  {
   "cell_type": "code",
   "execution_count": 109,
   "id": "7a5bdc8b-fa94-4cb0-8fd5-c6c1cbcfc01f",
   "metadata": {},
   "outputs": [],
   "source": [
    "#combine all datasets\n",
    "comb_train = [d1_train, d2_train, d3_train]\n",
    "comb_val = [d1_val, d2_val, d3_val]\n",
    "comb_ytrain = [y1_train, y2_train, y3_train]\n",
    "comb_yval = [y1_val, y2_val, y3_val]\n",
    "num_total = d1_train.shape[0] + d2_train.shape[0] + d3_train.shape[0]\n",
    "comb_lmb = [lambda_d1, lambda_d2, lambda_d3]\n"
   ]
  },
  {
   "cell_type": "markdown",
   "id": "fab6fae1-133d-4861-a93c-b51bb62a451b",
   "metadata": {},
   "source": [
    "### Aggregate Lasso Coordinate Descent Algorithm"
   ]
  },
  {
   "cell_type": "code",
   "execution_count": 158,
   "id": "fe47e7ed-9af5-47c5-bc4f-228b1303e25b",
   "metadata": {},
   "outputs": [],
   "source": [
    "def aggregator(small_iter = 5, big_iter = 15, tol = 1e-6):\n",
    "    comb_beta = np.zeros(d1_train.shape[1])\n",
    "    obj_values = []\n",
    "    for _ in range(big_iter):\n",
    "        comb_beta_old = comb_beta.copy()\n",
    "        beta_collect = []\n",
    "        for i in range(len(comb_train)):\n",
    "            beta_i = lasso_coordinate_descent(comb_train[i], comb_ytrain[i], comb_lmb[i], comb_beta, iter = small_iter, tol = 1e-4)\n",
    "            beta_i = (comb_train[i].shape[0] / num_total) * beta_i\n",
    "            beta_collect.append(beta_i)\n",
    "\n",
    "        comb_beta = np.sum(beta_collect, axis = 0)\n",
    "        obj_values.append(sse(test_X, test_y, comb_beta) )\n",
    "        if np.linalg.norm(comb_beta - comb_beta_old) < tol:\n",
    "            break\n",
    "            \n",
    "    return comb_beta, obj_values"
   ]
  },
  {
   "cell_type": "markdown",
   "id": "f2025faa-a73f-4399-81d8-83353bcd5e60",
   "metadata": {},
   "source": [
    "### Run Algorithm"
   ]
  },
  {
   "cell_type": "code",
   "execution_count": 159,
   "id": "8127b716-1a54-47db-b6bb-ab093ab2a443",
   "metadata": {},
   "outputs": [],
   "source": [
    "#blah\n",
    "final_beta, final_obj_values = aggregator()"
   ]
  },
  {
   "cell_type": "code",
   "execution_count": 160,
   "id": "116c7013-962f-4c37-8ef3-0aeab690e10c",
   "metadata": {},
   "outputs": [],
   "source": [
    "final_beta_10, final_10_obj_values = aggregator(small_iter = 10)"
   ]
  },
  {
   "cell_type": "code",
   "execution_count": 162,
   "id": "ab76ab81-6358-463f-9374-cc50ef2c1218",
   "metadata": {},
   "outputs": [
    {
     "data": {
      "image/png": "[encoded data removed]",
      "text/plain": [
       "<Figure size 640x480 with 1 Axes>"
      ]
     },
     "metadata": {},
     "output_type": "display_data"
    }
   ],
   "source": [
    "plt.plot(final_obj_values, marker='o', linestyle='-', color='red')\n",
    "plt.plot(final_10_obj_values, marker = 'o', linestyle = '-', color = 'blue')\n",
    "plt.legend(['5 Iterations', '10 Iterations'])\n",
    "plt.xlabel(\"Iteration\")\n",
    "plt.ylabel(\"Sum of Square Error\")\n",
    "plt.title(\"Combined Lasso Coordinate Descent Test Loss\")\n",
    "plt.show()"
   ]
  },
  {
   "cell_type": "markdown",
   "id": "717932e4-c2a3-414b-87af-399fbf7d4152",
   "metadata": {},
   "source": [
    "### 1. Lambda used for each owner"
   ]
  },
  {
   "cell_type": "code",
   "execution_count": 154,
   "id": "eed40687-70b1-48c7-9df2-70bcf196d395",
   "metadata": {},
   "outputs": [
    {
     "name": "stdout",
     "output_type": "stream",
     "text": [
      "From part a, the lambda used was found from minimizing the validation error, at: [36.0, 76.0, 76.0] for dataset 1, 2, and 3 respectively\n"
     ]
    }
   ],
   "source": [
    "print(f\"From part a, the lambda used was found from minimizing the validation error, at: {comb_lmb} for dataset 1, 2, and 3 respectively\")"
   ]
  },
  {
   "cell_type": "markdown",
   "id": "0d719700-0ab4-4d0b-bb45-67b133cdaf9d",
   "metadata": {},
   "source": [
    "### 2. Indices of the non-zero coefficients"
   ]
  },
  {
   "cell_type": "code",
   "execution_count": 136,
   "id": "1075dae5-ebcb-4544-9feb-25c57e0e4cda",
   "metadata": {},
   "outputs": [
    {
     "name": "stdout",
     "output_type": "stream",
     "text": [
      "Non-zero indices for final model (5 iterations): [  2   3   4   5   6   8   9  11  13  14  15  16  18  20  24  25  26  32\n",
      "  34  35  36  37  38  40  42  43  46  47  49  52  56  58  61  63  65  66\n",
      "  68  71  73  76  77  78  79  80  82  83  85  90  91  92  93  94  96  97\n",
      "  98 102 104 105 106 107 108 109 111 114 115 116 117 118 119 120 123 124\n",
      " 125 126 128 129 130 131 132 133 134 135 136 137 138 140 144 147 148 153\n",
      " 159 161 165 168 169 170 171 172 173 174 176 179 180 181 182 184 186 192\n",
      " 193 199 201 202 204 205 207 208 209 210 212 213 216 219 220 223 224 225\n",
      " 226 227 228 229 231 232 235 237 241 245 249 252 253 255 256 257 260 262\n",
      " 263 266 267 268 269 270 272 274 275 276 277 279 280 281 283 284 285 287\n",
      " 289 292 297 298 299 300 304 305 306 307 308 309 311 312 315 316 317 318\n",
      " 321 322 323 324 325 326 329 332 333 337 340 342 343 344 345 350 351 352\n",
      " 356 357 358 359 360 362 363 364 365 367 369 372 373 374 375 377 378 381\n",
      " 385 387 388 389 391 393 396 399 400 402 403 405 406 407 408 411 412 413\n",
      " 414 416 420 421 423 425 427 429 430 431 433 440 442 443 444 445 446 447\n",
      " 452 454 455 456 457 458 460 461 463 468 469 470 471 473 474 475 479 481\n",
      " 482 485 486 487 488 491 492 493 495 496 497 498 499 500 502 503 504 507\n",
      " 508 509 510 512 513 514 518 519 521 522 524 525 526 529 530 532 534 535\n",
      " 537 538 539 541 542 544 545 546 547 550 552 555 557 558 559 564 566 569\n",
      " 574 576 577 578 581 582 583 587 589 590 591 592 593 594 596 598]\n",
      "Non-zero indices for final model (10 iterations): [  2   3   4   5   6   8   9  11  13  14  15  18  20  24  25  26  34  35\n",
      "  36  37  38  40  42  43  46  47  49  52  56  58  61  63  65  66  68  71\n",
      "  73  76  77  78  79  82  85  86  90  91  92  93  94  97  98 102 104 105\n",
      " 106 107 108 109 111 114 115 116 117 118 119 120 123 124 125 126 128 129\n",
      " 130 133 134 135 136 137 138 144 147 148 151 153 159 161 165 168 169 170\n",
      " 171 172 173 174 176 179 181 182 184 186 192 193 199 201 202 204 207 208\n",
      " 209 210 212 213 216 218 219 220 223 224 225 226 228 229 231 232 235 237\n",
      " 241 245 249 252 253 255 256 257 260 262 263 266 267 268 269 270 275 276\n",
      " 277 279 281 283 284 285 287 289 292 294 297 298 299 300 304 305 306 307\n",
      " 308 309 311 312 315 317 318 321 322 323 324 325 326 329 332 333 337 340\n",
      " 342 343 344 345 350 351 352 356 358 359 360 362 364 365 367 369 372 373\n",
      " 374 377 378 381 385 387 388 389 391 393 396 399 400 402 403 405 406 407\n",
      " 408 409 411 412 413 414 416 420 421 423 425 427 429 430 431 433 440 442\n",
      " 443 444 445 446 447 452 454 456 457 461 463 465 469 470 471 473 474 475\n",
      " 479 482 485 486 487 488 491 492 493 495 496 497 498 499 500 502 503 504\n",
      " 507 508 509 510 512 513 514 518 519 521 522 524 525 526 530 532 534 535\n",
      " 537 538 539 541 542 544 545 547 550 552 555 557 558 559 564 566 569 574\n",
      " 576 577 578 581 582 587 589 590 591 592 593 594 596 598]\n"
     ]
    }
   ],
   "source": [
    "print(f\"Non-zero indices for final model (5 iterations): {np.where(final_beta != 0)[0]}\")\n",
    "print(f\"Non-zero indices for final model (10 iterations): {np.where(final_beta_10 != 0)[0]}\")"
   ]
  },
  {
   "cell_type": "markdown",
   "id": "43e6e17b-0044-4bdc-8971-2f38404a2679",
   "metadata": {},
   "source": [
    "### 3. Confusion Matrix"
   ]
  },
  {
   "cell_type": "code",
   "execution_count": 151,
   "id": "d8593f36-61dc-4f0d-8e5b-3ab86c55cbfb",
   "metadata": {},
   "outputs": [],
   "source": [
    "def output_cm(p, a):\n",
    "    pred_beta = (p != 0).astype(int)\n",
    "    actual_beta = (a != 0).astype(int)\n",
    "\n",
    "    cm = confusion_matrix(actual_beta, pred_beta)\n",
    "    cm_df = pd.DataFrame(cm, index=['Actual 0', 'Actual non-zero'], columns=['Predicted 0', 'Predicted non-zero'])\n",
    "    print(cm_df)    \n",
    "\n",
    "        "
   ]
  },
  {
   "cell_type": "code",
   "execution_count": 152,
   "id": "2ac0a157-8223-4972-97f4-2febf94020ec",
   "metadata": {},
   "outputs": [
    {
     "name": "stdout",
     "output_type": "stream",
     "text": [
      "-----5 Iterations-----\n",
      "                 Predicted 0  Predicted non-zero\n",
      "Actual 0                 251                   9\n",
      "Actual non-zero          204                 136\n",
      "                 Predicted 0  Predicted non-zero\n",
      "Actual 0                 257                   3\n",
      "Actual non-zero          216                 124\n",
      "                 Predicted 0  Predicted non-zero\n",
      "Actual 0                 259                   1\n",
      "Actual non-zero          156                 184\n",
      "-----10 Iterations-----\n",
      "                 Predicted 0  Predicted non-zero\n",
      "Actual 0                 267                  13\n",
      "Actual non-zero          188                 132\n",
      "                 Predicted 0  Predicted non-zero\n",
      "Actual 0                 277                   3\n",
      "Actual non-zero          196                 124\n",
      "                 Predicted 0  Predicted non-zero\n",
      "Actual 0                 277                   3\n",
      "Actual non-zero          138                 182\n"
     ]
    }
   ],
   "source": [
    "print(\"-----5 Iterations-----\")\n",
    "output_cm(beta_d1, final_beta)\n",
    "output_cm(beta_d2, final_beta)\n",
    "output_cm(beta_d3, final_beta)\n",
    "\n",
    "print(\"-----10 Iterations-----\")\n",
    "output_cm(beta_d1, final_beta_10)\n",
    "output_cm(beta_d2, final_beta_10)\n",
    "output_cm(beta_d3, final_beta_10)"
   ]
  },
  {
   "cell_type": "markdown",
   "id": "c06e8769-be76-4761-a4fc-bc932974ba21",
   "metadata": {},
   "source": [
    "### 4. Test Loss of Final Model"
   ]
  },
  {
   "cell_type": "code",
   "execution_count": 139,
   "id": "d6ec25de-6822-4329-8c8a-81be93c08383",
   "metadata": {},
   "outputs": [
    {
     "name": "stdout",
     "output_type": "stream",
     "text": [
      "Test Loss of final model = 57.19251424939362\n",
      "Test Loss of final model = 58.15334033618706\n"
     ]
    }
   ],
   "source": [
    "print(f\"Test Loss of final model = {sse(test_X, test_y, final_beta)}\")\n",
    "print(f\"Test Loss of final model = {sse(test_X, test_y, final_beta_2)}\")"
   ]
  },
  {
   "cell_type": "code",
   "execution_count": null,
   "id": "ebbc2c48-e40d-41a7-bd2f-6eb8ee2d8456",
   "metadata": {},
   "outputs": [],
   "source": []
  },
  {
   "cell_type": "code",
   "execution_count": null,
   "id": "a36fa75f-9bf8-4e0b-8f35-81dda4fb404a",
   "metadata": {},
   "outputs": [],
   "source": []
  },
  {
   "cell_type": "code",
   "execution_count": null,
   "id": "2768a3b6-5800-4bf6-882e-0bbbcfb5b5de",
   "metadata": {},
   "outputs": [],
   "source": []
  },
  {
   "cell_type": "code",
   "execution_count": null,
   "id": "c48f2b8b-9ea3-4bbb-9194-52646318cd56",
   "metadata": {},
   "outputs": [],
   "source": []
  },
  {
   "cell_type": "code",
   "execution_count": null,
   "id": "ea0554e7-b21e-47d6-9a33-35f98c52044d",
   "metadata": {},
   "outputs": [],
   "source": []
  },
  {
   "cell_type": "code",
   "execution_count": null,
   "id": "05b995f7-2c4b-473d-b8f3-7679c5f1d8ad",
   "metadata": {},
   "outputs": [],
   "source": []
  },
  {
   "cell_type": "code",
   "execution_count": null,
   "id": "12652f5e-e679-4cf8-9520-147d0e939ec2",
   "metadata": {},
   "outputs": [],
   "source": []
  },
  {
   "cell_type": "code",
   "execution_count": null,
   "id": "2ed8da48-d7eb-4a2f-af39-c8c759d5c4c3",
   "metadata": {},
   "outputs": [],
   "source": []
  },
  {
   "cell_type": "code",
   "execution_count": null,
   "id": "13d70136-bf3a-431f-83a9-7b3c10835245",
   "metadata": {},
   "outputs": [],
   "source": []
  }
 ],
 "metadata": {
  "kernelspec": {
   "display_name": "Python 3 (ipykernel)",
   "language": "python",
   "name": "python3"
  },
  "language_info": {
   "codemirror_mode": {
    "name": "ipython",
    "version": 3
   },
   "file_extension": ".py",
   "mimetype": "text/x-python",
   "name": "python",
   "nbconvert_exporter": "python",
   "pygments_lexer": "ipython3",
   "version": "3.11.7"
  }
 },
 "nbformat": 4,
 "nbformat_minor": 5
}
